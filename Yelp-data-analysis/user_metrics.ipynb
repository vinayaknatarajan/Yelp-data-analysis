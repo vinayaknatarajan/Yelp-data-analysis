{
 "cells": [
  {
   "cell_type": "code",
   "execution_count": 5,
   "metadata": {},
   "outputs": [],
   "source": [
    "import findspark\n",
    "findspark.init()\n",
    "findspark.find()\n",
    "import pyspark\n",
    "from pyspark import SparkContext, SparkConf\n",
    "from pyspark.sql import SparkSession\n",
    "conf = pyspark.SparkConf().setAppName('appName').setMaster('local')\n",
    "sc = pyspark.SparkContext.getOrCreate(conf=conf)\n",
    "spark = SparkSession(sc)\n",
    "\n",
    "from pyspark.sql import SQLContext\n",
    "\n",
    "sc1 = SQLContext(sc)"
   ]
  },
  {
   "cell_type": "code",
   "execution_count": 2,
   "metadata": {},
   "outputs": [],
   "source": [
    "#get user data\n",
    "userRdd = spark.read.json(\"D:\\\\BigDataProject\\\\yelpDataset\\\\user.json\")"
   ]
  },
  {
   "cell_type": "code",
   "execution_count": 6,
   "metadata": {},
   "outputs": [],
   "source": [
    "user2 = spark.read.format('csv').options(header='true', inferSchema='true').load(\"D:\\\\BigDataProject\\\\yelp_user.csv\")"
   ]
  },
  {
   "cell_type": "code",
   "execution_count": 8,
   "metadata": {},
   "outputs": [],
   "source": [
    "#save user data in csv\n",
    "userRdd.repartition(1).write.option(\"header\", \"true\").csv(\"user_trend_f.csv\")"
   ]
  },
  {
   "cell_type": "code",
   "execution_count": 4,
   "metadata": {},
   "outputs": [
    {
     "name": "stdout",
     "output_type": "stream",
     "text": [
      "root\n",
      " |-- average_stars: double (nullable = true)\n",
      " |-- compliment_cool: long (nullable = true)\n",
      " |-- compliment_cute: long (nullable = true)\n",
      " |-- compliment_funny: long (nullable = true)\n",
      " |-- compliment_hot: long (nullable = true)\n",
      " |-- compliment_list: long (nullable = true)\n",
      " |-- compliment_more: long (nullable = true)\n",
      " |-- compliment_note: long (nullable = true)\n",
      " |-- compliment_photos: long (nullable = true)\n",
      " |-- compliment_plain: long (nullable = true)\n",
      " |-- compliment_profile: long (nullable = true)\n",
      " |-- compliment_writer: long (nullable = true)\n",
      " |-- cool: long (nullable = true)\n",
      " |-- elite: string (nullable = true)\n",
      " |-- fans: long (nullable = true)\n",
      " |-- friends: string (nullable = true)\n",
      " |-- funny: long (nullable = true)\n",
      " |-- name: string (nullable = true)\n",
      " |-- review_count: long (nullable = true)\n",
      " |-- useful: long (nullable = true)\n",
      " |-- user_id: string (nullable = true)\n",
      " |-- yelping_since: string (nullable = true)\n",
      "\n"
     ]
    }
   ],
   "source": [
    "userRdd.printSchema()"
   ]
  },
  {
   "cell_type": "code",
   "execution_count": 2,
   "metadata": {},
   "outputs": [],
   "source": [
    "from elasticsearch import helpers, Elasticsearch\n",
    "import csv\n",
    "es = Elasticsearch()"
   ]
  },
  {
   "cell_type": "code",
   "execution_count": null,
   "metadata": {},
   "outputs": [],
   "source": [
    "#Load user data into elastic search with index mapping\n",
    "with open('user_trend_f.csv') as f:\n",
    "    index_name = 'user_trend_f2'\n",
    "    doctype = 'user7'\n",
    "    reader = csv.reader(f)\n",
    "    headers = []\n",
    "    index = 0\n",
    "    es.indices.delete(index=index_name, ignore=[400, 404])\n",
    "    es.indices.create(index=index_name, ignore=400)\n",
    "    es.indices.put_mapping(\n",
    "        index=index_name,\n",
    "        doc_type=doctype,\n",
    "        ignore=400,\n",
    "        body={\n",
    "            doctype: {\n",
    "                \"properties\": {\n",
    "                    \"review_count\": {\n",
    "                        \"type\": \"number\",\n",
    "                    },\n",
    "                    \"yelping_since\":{\n",
    "                        \"type\":\"date\",\n",
    "                        \"format\": \"yyyy-MM-dd\"\n",
    "                    }\n",
    "                }\n",
    "            }\n",
    "        }\n",
    "    )\n",
    "    for row in reader:\n",
    "        try:\n",
    "            if(index == 0):\n",
    "                  headers = row\n",
    "            else:\n",
    "                row[0] = int(row[0])\n",
    "                obj = {}\n",
    "                print(row)\n",
    "                for i, val in enumerate(row):\n",
    "                    #print(type(val))\n",
    "                    obj[headers[i]] = val\n",
    "                #print(obj)\n",
    "                  # put document into elastic search\n",
    "                es.index(index=index_name, doc_type=doctype, body=obj)\n",
    "                #print(obj)\n",
    "\n",
    "        except Exception as e:\n",
    "            print('error: ' + str(e) + ' in' + str(index))\n",
    "        index = index + 1\n",
    "    \n",
    "f.close()"
   ]
  }
 ],
 "metadata": {
  "kernelspec": {
   "display_name": "Python 3",
   "language": "python",
   "name": "python3"
  },
  "language_info": {
   "codemirror_mode": {
    "name": "ipython",
    "version": 3
   },
   "file_extension": ".py",
   "mimetype": "text/x-python",
   "name": "python",
   "nbconvert_exporter": "python",
   "pygments_lexer": "ipython3",
   "version": "3.6.10"
  }
 },
 "nbformat": 4,
 "nbformat_minor": 4
}
